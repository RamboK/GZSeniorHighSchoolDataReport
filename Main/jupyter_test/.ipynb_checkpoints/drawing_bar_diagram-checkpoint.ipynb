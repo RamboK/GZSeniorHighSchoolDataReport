{
 "cells": [
  {
   "cell_type": "code",
   "execution_count": 38,
   "metadata": {},
   "outputs": [],
   "source": [
    "import pandas as pd\n",
    "import numpy as np\n",
    "import matplotlib.pyplot as plt\n",
    "import matplotlib as mpl"
   ]
  },
  {
   "cell_type": "code",
   "execution_count": 2,
   "metadata": {},
   "outputs": [],
   "source": [
    "\n",
    "DATA_DIR = '/Users/Rambo/Downloads/highschool_data/'\n",
    "DATA_OUTPUT_DIR = \"/Users/Rambo/Documents/GZ_output/\"\n",
    "\n",
    "SUBJECT = ['yuwen','shuxue','yingyu','tongyongjishu','wuli','huaxue','shengwu','zhengzhi','lishi','dili']\n",
    "\n",
    "COLUMNS = {\"试题编号\",\"参考学生数\",\"得分人数\",\"得分率\",\"平均分\",\"难度\",\"标准差\",\"斯皮尔曼区分度\",\"皮尔顺区分度\",\"A等平均分\",\"B等平均分\",\"C等平均分\",\"D等平均分\"}\n",
    "\n",
    "RANK_MAP = {\"dili\":\"Dlfd\",\"yuwen\":\"Ywfd\",\"huaxue\":\"Hxfd\",\"lishi\":\"Lsfd\",\"shengwu\":\"Swfd\",\"wuli\":\"Wlfd\",\n",
    "            \"zhengzhi\":\"Zzfd\",\"tiyu\":\"Tyfd\",\"shuxue\":\"Sxfd\",\"yingyu\":\"Yyfd\",\"tongyongjishu\":\"xxjsfd\"}\n",
    "\n",
    "SUBJECT_MAP = {\"dili\":\"地理\",\"yuwen\":\"语文\",\"huaxue\":\"化学\",\"lishi\":\"历史\",\"shengwu\":\"生物\",\"wuli\":\"物理\",\n",
    "            \"zhengzhi\":\"政治\",\"tiyu\":\"体育\",\"shuxue\":\"数学\",\"yingyu\":\"英语\",\"tongyongjishu\":\"信息技术\"}\n",
    "\n",
    "CITY_MAP = {1:\"贵阳\",2:\"遵义\",3:\"安顺\",4:\"毕节\",5:\"铜仁\",6:\"六盘水\",7:\"黔南州\",8:\"黔东南\",9:\"黔西南\"}\n",
    "\n",
    "def dirToString(subject,type):\n",
    "    typeToDir={\n",
    "        \"item\":DATA_DIR+subject+'ItemInfor.csv',\n",
    "        \"score\":DATA_DIR+subject+'Score.txt',\n",
    "        \"rank\":DATA_DIR+\"等级数据.txt\",\n",
    "        \"option\":DATA_DIR+subject+\"Options.txt\"\n",
    "    }\n",
    "    return typeToDir.get(type)\n"
   ]
  },
  {
   "cell_type": "code",
   "execution_count": 100,
   "metadata": {},
   "outputs": [
    {
     "data": {
      "text/plain": [
       "[3.0,\n",
       " 1.0,\n",
       " 1.0,\n",
       " 9.0,\n",
       " 27.0,\n",
       " 130.0,\n",
       " 460.0,\n",
       " 1019.0,\n",
       " 2201.0,\n",
       " 3753.0,\n",
       " 5636.0,\n",
       " 6446.0,\n",
       " 5943.0,\n",
       " 3512.0,\n",
       " 688.0,\n",
       " 10.0]"
      ]
     },
     "execution_count": 100,
     "metadata": {},
     "output_type": "execute_result"
    }
   ],
   "source": [
    "subject = \"dili\"\n",
    "#def scoreRangePlot(subject):\n",
    "#open score file\n",
    "dfscore = pd.read_csv(dirToString(subject, \"score\"), delimiter='\\t')\n",
    "# fullscore\n",
    "dfitem = pd.read_csv(dirToString(subject, \"item\"))\n",
    "fullscore = dfitem.loc[dfitem[\"shitihao\"] == \"totalScore\"][\"full\"].iloc[0]\n",
    "# noabsent\n",
    "dfscore_noabsent = dfscore.loc[dfscore[\"absent\"] == \"N\"]\n",
    "# index\n",
    "begin = np.linspace(0, 140, 15).tolist()\n",
    "end = np.linspace(10, 150, 15).tolist()\n",
    "# 考虑到满分不在[140,150)\n",
    "series_city_fullscore = dfscore_noabsent.loc[(dfscore_noabsent[\"totalScore\"] == fullscore)].groupby(\"cityID\")[\n",
    "    \"absent\"].count().rename(\"满分\")\n",
    "series_list = [\n",
    "    dfscore_noabsent.loc[(dfscore_noabsent[\"totalScore\"] >= i) & (dfscore_noabsent[\"totalScore\"] < j)].groupby(\n",
    "        \"cityID\")[\"absent\"].count().rename(\"[\" + str(np.int(i)) + \",\" + str(np.int(j)) + \")\") for i, j in\n",
    "    zip(begin, end)]\n",
    "series_list = series_list + [series_city_fullscore]\n",
    "df = pd.concat(series_list,axis=1,join=\"outer\").fillna(0)\n",
    "\n",
    "#出各市州的分数段条形图\n",
    "#设置汉字字体，以及-正常显示\n",
    "mpl.rcParams['font.sans-serif'] = ['FangSong']\n",
    "mpl.rcParams['font.serif'] = ['FandSong']\n",
    "mpl.rcParams['axes.unicode_minus'] = False\n",
    "\n",
    "for i in range(len(df)):\n",
    "    #设置图片大小\n",
    "    fig = plt.figure(num=i,figsize=(6,4))\n",
    "    #x轴的ticks\n",
    "    xlabels = df.iloc[i].index.tolist()\n",
    "    #定义每个bar的位置\n",
    "    left = np.arange(len(xlabels))\n",
    "    #bar的高度\n",
    "    height = df.iloc[i].values.tolist()\n",
    "    #画条形图\n",
    "    plt.bar(left,height,align=\"center\",color='#B5B5B5',linewidth=1,edgecolor=\"K\",alpha=0.8)\n",
    "    #设置x轴的ticks\n",
    "    plt.xticks(left,xlabels,size=\"small\",rotation=35)\n",
    "\n",
    "    ax = plt.gca()\n",
    "    #标题\n",
    "    name = CITY_MAP[df.iloc[i].name]\n",
    "    ax.set_title(name)\n",
    "    ax.spines[\"right\"].set_color('none')\n",
    "    ax.spines[\"top\"].set_color('none')\n",
    "    #plt.rcParams['savefig.dpi'] = 200\n",
    "    #plt.rcParams['figure.dpi'] = 200\n",
    "    plt.savefig(DATA_OUTPUT_DIR+SUBJECT_MAP[subject]+\"总分分数段分布图(\"+str(name)+\")\",dpi=400)\n",
    "    plt.close(i)\n",
    "\n",
    "    "
   ]
  },
  {
   "cell_type": "code",
   "execution_count": null,
   "metadata": {},
   "outputs": [],
   "source": []
  }
 ],
 "metadata": {
  "kernelspec": {
   "display_name": "Python 3",
   "language": "python",
   "name": "python3"
  },
  "language_info": {
   "codemirror_mode": {
    "name": "ipython",
    "version": 3
   },
   "file_extension": ".py",
   "mimetype": "text/x-python",
   "name": "python",
   "nbconvert_exporter": "python",
   "pygments_lexer": "ipython3",
   "version": "3.7.2"
  }
 },
 "nbformat": 4,
 "nbformat_minor": 2
}
