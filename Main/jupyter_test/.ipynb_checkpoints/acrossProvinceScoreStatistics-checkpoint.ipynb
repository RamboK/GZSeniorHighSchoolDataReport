{
 "cells": [
  {
   "cell_type": "code",
   "execution_count": 1,
   "metadata": {},
   "outputs": [],
   "source": [
    "import pandas as pd\n",
    "import numpy as np"
   ]
  },
  {
   "cell_type": "code",
   "execution_count": 56,
   "metadata": {},
   "outputs": [],
   "source": [
    "DATA_DIR = '/Users/Rambo/Downloads/highschool_data/'\n",
    "subject = \"dili\"\n",
    "item_dir = DATA_DIR+subject+\"ItemInfor.csv\"\n",
    "score_dir = DATA_DIR+subject+\"Score.txt\"\n",
    "rank_dir = DATA_DIR+\"等级数据.txt\"\n",
    "dfitem = pd.read_csv(item_dir)\n",
    "dfscore = pd.read_csv(score_dir,delimiter=\"\\t\")\n",
    "dfrank = pd.read_csv(rank_dir,delimiter=\"\\t\")"
   ]
  },
  {
   "cell_type": "code",
   "execution_count": 61,
   "metadata": {},
   "outputs": [],
   "source": [
    "#按dist分组 用聚合函数求各项参数\n",
    "#总分\n",
    "fullScore = dfitem.loc[dfitem[\"shitihao\"] == \"totalScore\"][\"full\"].iloc[0]\n",
    "#报名人数\n",
    "totalExaminee = dfscore[\"kh\"].count()\n",
    "#筛选\n",
    "dfscore = dfscore.loc[dfscore[\"absent\"]==\"N\"]\n",
    "#实际参考人数\n",
    "realExaminee = dfscore[\"kh\"].count()\n",
    "#0分人数 参加考试的人中0分的人\n",
    "zeroExaminee = dfscore.loc[dfscore[\"totalScore\"] == 0][\"kh\"].count()\n",
    "#缺考学生数\n",
    "absentExaminee = totalExaminee - realExaminee"
   ]
  },
  {
   "cell_type": "code",
   "execution_count": 85,
   "metadata": {},
   "outputs": [],
   "source": [
    "#Series_Statistics = dfscore[\"totalScore\"].describe()\n",
    "#变异系数=std/mean\n",
    "#mean std 变异系数 偏度 峰度 .25 .5 .75 \n",
    "mean_score = dfscore[\"totalScore\"].mean()\n",
    "std_score = dfscore[\"totalScore\"].std()\n",
    "variation_score = std_score/mean_score\n",
    "skew_score = dfscore[\"totalScore\"].skew()\n",
    "kurt_score = dfscore[\"totalScore\"].kurt()\n",
    "_25score = dfscore[\"totalScore\"].quantile(.25)\n",
    "_5score = dfscore[\"totalScore\"].quantile(.5)\n",
    "_75score = dfscore[\"totalScore\"].quantile(.75)\n",
    "\n",
    "\n",
    "#及格人数\n",
    "passExaminee = dfscore[\"totalScore\"].loc[dfscore[\"totalScore\"] >= fullScore*0.6].count()\n",
    "#及格率\n",
    "passRate = passExaminee/realExaminee\n",
    "#优秀人数\n",
    "outstandExaminee = dfscore[\"totalScore\"].loc[dfscore[\"totalScore\"] >= fullScore*0.8].count()\n",
    "#优秀率\n",
    "outstandRate = outstandExaminee/realExaminee\n",
    "#众数\n",
    "mode = dfscore[\"totalScore\"].mode().iloc[0]\n",
    "#ABCD等人数\n",
    "series_ABCD = dfrank[\"Dlfd\"].value_counts()\n",
    "series_ABCD_Rate = series_ABCD.div(realExaminee).mul(100)\n",
    "series_ABCD = series_ABCD.rename({\"A\":\"A等人数\",\"B\":\"B等人数\",\"C\":\"C等人数\",\"D\":\"D等人数\"})\n",
    "series_ABCD_Rate = series_ABCD_Rate.rename({\"A\":\"A等%\",\"B\":\"B等%\",\"C\":\"C等%\",\"D\":\"D等%\"})\n"
   ]
  },
  {
   "cell_type": "code",
   "execution_count": 52,
   "metadata": {},
   "outputs": [
    {
     "data": {
      "text/plain": [
       "count    317524.000000\n",
       "mean         98.245440\n",
       "std          18.150278\n",
       "min           0.000000\n",
       "25%          86.000000\n",
       "50%          99.000000\n",
       "75%         111.000000\n",
       "max         150.000000\n",
       "Name: totalScore, dtype: float64"
      ]
     },
     "execution_count": 52,
     "metadata": {},
     "output_type": "execute_result"
    }
   ],
   "source": [
    "pd.Series()"
   ]
  },
  {
   "cell_type": "code",
   "execution_count": 83,
   "metadata": {},
   "outputs": [],
   "source": [
    "DICT = {\"区域名称\":\"贵州省\",\"参考学生数\":totalExaminee,\"缺考学生数\":absentExaminee,\"实考学生数\":realExaminee,\"0分学生数\":zeroExaminee,\n",
    "        \"平均分\":mean_score,\"标准差\":std_score,\"变异系数\":variation_score,\"偏度系数\":skew_score,\"峰度系数\":kurt_score,\"1/4分位数\":_25score,\n",
    "        \"中位数\":_5score,\"3/4中位数\":_75score,\"及格人数\":passExaminee,\"及格率\":passRate,\"优秀人数\":outstandExaminee,\"优秀率\":outstandRate,\n",
    "        \"众数\":mode}\n",
    "ser = pd.Series(DICT)\n",
    "ser.append([series_ABCD,series_ABCD_Rate])\n",
    "GZprovince_df = pd.DataFrame(ser).T"
   ]
  },
  {
   "cell_type": "code",
   "execution_count": 70,
   "metadata": {},
   "outputs": [
    {
     "data": {
      "text/plain": [
       "0    98\n",
       "dtype: int64"
      ]
     },
     "execution_count": 70,
     "metadata": {},
     "output_type": "execute_result"
    }
   ],
   "source": []
  },
  {
   "cell_type": "code",
   "execution_count": null,
   "metadata": {},
   "outputs": [],
   "source": []
  }
 ],
 "metadata": {
  "kernelspec": {
   "display_name": "Python 3",
   "language": "python",
   "name": "python3"
  },
  "language_info": {
   "codemirror_mode": {
    "name": "ipython",
    "version": 3
   },
   "file_extension": ".py",
   "mimetype": "text/x-python",
   "name": "python",
   "nbconvert_exporter": "python",
   "pygments_lexer": "ipython3",
   "version": "3.7.2"
  }
 },
 "nbformat": 4,
 "nbformat_minor": 2
}
