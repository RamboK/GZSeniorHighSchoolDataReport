{
 "cells": [
  {
   "cell_type": "code",
   "execution_count": 2,
   "metadata": {},
   "outputs": [],
   "source": [
    "import numpy as np\n",
    "import pandas as pd\n",
    "import matplotlib as mpl\n",
    "import matplotlib.pyplot as plt\n",
    "\n",
    "mpl.rcParams['font.sans-serif'] = ['FangSong']\n",
    "mpl.rcParams['font.serif'] = ['FandSong']\n",
    "mpl.rcParams['axes.unicode_minus'] = False"
   ]
  },
  {
   "cell_type": "code",
   "execution_count": 3,
   "metadata": {},
   "outputs": [],
   "source": [
    "\n",
    "DATA_DIR = '/Users/Rambo/Downloads/highschool_data/'\n",
    "DATA_OUTPUT_DIR = \"/Users/Rambo/Documents/GZ_output/\"\n",
    "\n",
    "SUBJECT = ['yuwen','shuxue','yingyu','tongyongjishu','wuli','huaxue','shengwu','zhengzhi','lishi','dili']\n",
    "\n",
    "COLUMNS = {\"试题编号\",\"参考学生数\",\"得分人数\",\"得分率\",\"平均分\",\"难度\",\"标准差\",\"斯皮尔曼区分度\",\"皮尔顺区分度\",\"A等平均分\",\"B等平均分\",\"C等平均分\",\"D等平均分\"}\n",
    "\n",
    "RANK_MAP = {\"dili\":\"Dlfd\",\"yuwen\":\"Ywfd\",\"huaxue\":\"Hxfd\",\"lishi\":\"Lsfd\",\"shengwu\":\"Swfd\",\"wuli\":\"Wlfd\",\n",
    "            \"zhengzhi\":\"Zzfd\",\"tiyu\":\"Tyfd\",\"shuxue\":\"Sxfd\",\"yingyu\":\"Yyfd\",\"tongyongjishu\":\"xxjsfd\"}\n",
    "\n",
    "SUBJECT_MAP = {\"dili\":\"地理\",\"yuwen\":\"语文\",\"huaxue\":\"化学\",\"lishi\":\"历史\",\"shengwu\":\"生物\",\"wuli\":\"物理\",\n",
    "            \"zhengzhi\":\"政治\",\"tiyu\":\"体育\",\"shuxue\":\"数学\",\"yingyu\":\"英语\",\"tongyongjishu\":\"信息技术\"}\n",
    "\n",
    "CITY_MAP = {1:\"贵阳\",2:\"遵义\",3:\"安顺\",4:\"毕节\",5:\"铜仁\",6:\"六盘水\",7:\"黔南州\",8:\"黔东南\",9:\"黔西南\"}\n",
    "\n",
    "def dirToString(subject,type):\n",
    "    typeToDir={\n",
    "        \"item\":DATA_DIR+subject+'ItemInfor.csv',\n",
    "        \"score\":DATA_DIR+subject+'Score.txt',\n",
    "        \"rank\":DATA_DIR+\"等级数据.txt\",\n",
    "        \"option\":DATA_DIR+subject+\"Options.txt\"\n",
    "    }\n",
    "    return typeToDir.get(type)\n",
    "\n",
    "subject = \"dili\""
   ]
  },
  {
   "cell_type": "code",
   "execution_count": 12,
   "metadata": {
    "scrolled": false
   },
   "outputs": [
    {
     "data": {
      "text/plain": [
       "(array([ 1,  2,  3,  4,  5,  6,  7,  8,  9, 10]),\n",
       " <a list of 10 Text xticklabel objects>)"
      ]
     },
     "execution_count": 12,
     "metadata": {},
     "output_type": "execute_result"
    },
    {
     "data": {
      "image/png": "[encoded data removed]",
      "text/plain": [
       "<Figure size 720x504 with 1 Axes>"
      ]
     },
     "metadata": {
      "needs_background": "light"
     },
     "output_type": "display_data"
    }
   ],
   "source": [
    "dfscore = pd.read_csv(dirToString(subject, \"score\"), delimiter='\\t')\n",
    "df_noAbsent_score = dfscore.loc[dfscore[\"absent\"] == \"N\"]\n",
    "\n",
    "\n",
    "series_gb = df_noAbsent_score.groupby(\"cityID\")[\"totalScore\"]\n",
    "#init list \n",
    "list_scores = [df_noAbsent_score[\"totalScore\"].tolist()]\n",
    "list_scores = list_scores + [list(group_data.values) for group_name,group_data in series_gb]\n",
    "\n",
    "plt.figure(num=0,figsize=(10,7))\n",
    "\n",
    "city_labels = [\"贵州省\"]\n",
    "city_labels = city_labels + list(CITY_MAP.values())\n",
    "\n",
    "boxes = plt.boxplot(list_scores,sym='.',patch_artist=True,labels=city_labels,widths=0.8)\n",
    "boxes_color=['#EE7AE9','#228B22','#8E388E','#DAA520','#1E90FF','#CD3333','#B4EEB4','#B03060','#8B7355','#8B2500']\n",
    "for box,color in zip(boxes[\"boxes\"],boxes_color):\n",
    "    box.set( color='k', linewidth=1)\n",
    "    box.set( facecolor = color )\n",
    "for median in boxes[\"medians\"]:\n",
    "    median.set(color=\"#1A1A1A\",linewidth=2)\n",
    "for flier in boxes[\"fliers\"]:\n",
    "    flier.set(marker='.',fillstyle=\"full\",markerfacecolor='b')\n",
    "#横纵轴\n",
    "plt.yticks(np.linspace(0,150,4),size=\"large\")\n",
    "plt.xticks(size=\"large\",rotation=90)\n"
   ]
  },
  {
   "cell_type": "code",
   "execution_count": null,
   "metadata": {},
   "outputs": [],
   "source": []
  }
 ],
 "metadata": {
  "kernelspec": {
   "display_name": "Python 3",
   "language": "python",
   "name": "python3"
  },
  "language_info": {
   "codemirror_mode": {
    "name": "ipython",
    "version": 3
   },
   "file_extension": ".py",
   "mimetype": "text/x-python",
   "name": "python",
   "nbconvert_exporter": "python",
   "pygments_lexer": "ipython3",
   "version": "3.7.2"
  }
 },
 "nbformat": 4,
 "nbformat_minor": 2
}
